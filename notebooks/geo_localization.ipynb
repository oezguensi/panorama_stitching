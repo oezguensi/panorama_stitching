{
 "cells": [
  {
   "cell_type": "code",
   "execution_count": 2,
   "metadata": {},
   "outputs": [],
   "source": [
    "import gpxpy \n",
    "import gpxpy.gpx "
   ]
  },
  {
   "cell_type": "code",
   "execution_count": 13,
   "metadata": {},
   "outputs": [
    {
     "name": "stdout",
     "output_type": "stream",
     "text": [
      "Point at (51.6365781,10.3555755) | Elevation: 42.83\n",
      "Point at (51.6364707,10.3556834) | Elevation: 42.99\n",
      "Point at (51.6363615,10.3557986) | Elevation: 43.01\n",
      "Point at (51.6362558,10.355914) | Elevation: 43.12\n",
      "Point at (51.6361505,10.3560255) | Elevation: 43.2\n",
      "Point at (51.6360459,10.3561451) | Elevation: 43.21\n",
      "Point at (51.635983,10.3563272) | Elevation: 42.71\n",
      "Point at (51.635942,10.3565194) | Elevation: 42.15\n",
      "Point at (51.6359052,10.3567159) | Elevation: 41.68\n",
      "Point at (51.6358699,10.3569165) | Elevation: 41.2\n",
      "Point at (51.6358339,10.3571172) | Elevation: 40.7\n",
      "Point at (51.6357973,10.3573182) | Elevation: 40.22\n",
      "Point at (51.6357631,10.3575155) | Elevation: 40.02\n"
     ]
    }
   ],
   "source": [
    "with open('../assets/Flug2/location.gpx', 'r') as f:\n",
    "    gpx = gpxpy.parse(f)\n",
    "\n",
    "for track in gpx.tracks: \n",
    "    for segment in track.segments: \n",
    "        for point in segment.points: \n",
    "            print(f'Point at ({point.latitude},{point.longitude}) | Elevation: {point.elevation}')\n",
    "\n",
    "for waypoint in gpx.waypoints: \n",
    "    print(f'waypoint {waypoint.name} -> ({waypoint.latitude},{waypoint.longitude})')\n",
    "\n",
    "for route in gpx.routes: \n",
    "    print(f'Route: {route}')"
   ]
  },
  {
   "cell_type": "code",
   "execution_count": 12,
   "metadata": {},
   "outputs": [
    {
     "data": {
      "text/plain": [
       "[GPXTrackPoint(51.6365744, 10.3555742, elevation=43.95, time=datetime.datetime(2021, 7, 2, 10, 5, 36, tzinfo=SimpleTZ(\"Z\"))),\n",
       " GPXTrackPoint(51.636467, 10.3556888, elevation=43.99, time=datetime.datetime(2021, 7, 2, 10, 5, 39, tzinfo=SimpleTZ(\"Z\"))),\n",
       " GPXTrackPoint(51.6363552, 10.3558076, elevation=44.09, time=datetime.datetime(2021, 7, 2, 10, 5, 42, tzinfo=SimpleTZ(\"Z\"))),\n",
       " GPXTrackPoint(51.6362424, 10.3559256, elevation=44.11, time=datetime.datetime(2021, 7, 2, 10, 5, 45, tzinfo=SimpleTZ(\"Z\"))),\n",
       " GPXTrackPoint(51.6361345, 10.3560402, elevation=44.12, time=datetime.datetime(2021, 7, 2, 10, 5, 48, tzinfo=SimpleTZ(\"Z\"))),\n",
       " GPXTrackPoint(51.6360297, 10.3561715, elevation=44.03, time=datetime.datetime(2021, 7, 2, 10, 5, 52, tzinfo=SimpleTZ(\"Z\"))),\n",
       " GPXTrackPoint(51.6359727, 10.3563631, elevation=43.58, time=datetime.datetime(2021, 7, 2, 10, 5, 55, tzinfo=SimpleTZ(\"Z\"))),\n",
       " GPXTrackPoint(51.6359339, 10.3565566, elevation=43.1, time=datetime.datetime(2021, 7, 2, 10, 5, 58, tzinfo=SimpleTZ(\"Z\"))),\n",
       " GPXTrackPoint(51.635897, 10.3567553, elevation=42.6, time=datetime.datetime(2021, 7, 2, 10, 6, 1, tzinfo=SimpleTZ(\"Z\"))),\n",
       " GPXTrackPoint(51.6358616, 10.3569546, elevation=42.07, time=datetime.datetime(2021, 7, 2, 10, 6, 4, tzinfo=SimpleTZ(\"Z\"))),\n",
       " GPXTrackPoint(51.6358261, 10.3571546, elevation=41.65, time=datetime.datetime(2021, 7, 2, 10, 6, 7, tzinfo=SimpleTZ(\"Z\"))),\n",
       " GPXTrackPoint(51.6357909, 10.3573531, elevation=41.21, time=datetime.datetime(2021, 7, 2, 10, 6, 10, tzinfo=SimpleTZ(\"Z\")))]"
      ]
     },
     "execution_count": 12,
     "metadata": {},
     "output_type": "execute_result"
    }
   ],
   "source": [
    "gpx.tracks[0].segments[0].points"
   ]
  },
  {
   "cell_type": "code",
   "execution_count": 14,
   "metadata": {},
   "outputs": [
    {
     "data": {
      "text/plain": [
       "37.0"
      ]
     },
     "execution_count": 14,
     "metadata": {},
     "output_type": "execute_result"
    }
   ],
   "source": [
    "gpx.get_duration()"
   ]
  },
  {
   "cell_type": "code",
   "execution_count": 15,
   "metadata": {},
   "outputs": [
    {
     "data": {
      "text/plain": [
       "MovingData(moving_time=37.0, stopped_time=0.0, moving_distance=171.28051773406528, stopped_distance=0.0, max_speed=0.0)"
      ]
     },
     "execution_count": 15,
     "metadata": {},
     "output_type": "execute_result"
    }
   ],
   "source": [
    "gpx.get_moving_data()"
   ]
  },
  {
   "cell_type": "code",
   "execution_count": 18,
   "metadata": {},
   "outputs": [],
   "source": [
    "track = gpx.tracks[0]"
   ]
  },
  {
   "cell_type": "code",
   "execution_count": 21,
   "metadata": {},
   "outputs": [],
   "source": [
    "segment = track.segments[0]"
   ]
  },
  {
   "cell_type": "code",
   "execution_count": 27,
   "metadata": {},
   "outputs": [
    {
     "data": {
      "text/plain": [
       "170.9553310882095"
      ]
     },
     "execution_count": 27,
     "metadata": {},
     "output_type": "execute_result"
    }
   ],
   "source": [
    "segment.length_3d()"
   ]
  },
  {
   "cell_type": "markdown",
   "metadata": {},
   "source": [
    "# Using pyKML"
   ]
  },
  {
   "cell_type": "code",
   "execution_count": 31,
   "metadata": {},
   "outputs": [],
   "source": [
    "from pykml import parser\n",
    "import io"
   ]
  },
  {
   "cell_type": "code",
   "execution_count": 29,
   "metadata": {},
   "outputs": [
    {
     "ename": "XMLSyntaxError",
     "evalue": "Document labelled UTF-16 but has UTF-8 content, line 1, column 38 (location.kml, line 1)",
     "output_type": "error",
     "traceback": [
      "Traceback \u001b[0;36m(most recent call last)\u001b[0m:\n",
      "  File \u001b[1;32m\"/Users/oezguensi/.virtualenvs/panorama_stitching/lib/python3.7/site-packages/IPython/core/interactiveshell.py\"\u001b[0m, line \u001b[1;32m3444\u001b[0m, in \u001b[1;35mrun_code\u001b[0m\n    exec(code_obj, self.user_global_ns, self.user_ns)\n",
      "  File \u001b[1;32m\"/var/folders/94/tmyvq7316f367fqgqkhhw3680000gn/T/ipykernel_19998/3884068637.py\"\u001b[0m, line \u001b[1;32m2\u001b[0m, in \u001b[1;35m<module>\u001b[0m\n    root = parser.parse(f).getroot()\n",
      "  File \u001b[1;32m\"/Users/oezguensi/.virtualenvs/panorama_stitching/lib/python3.7/site-packages/pykml/parser.py\"\u001b[0m, line \u001b[1;32m69\u001b[0m, in \u001b[1;35mparse\u001b[0m\n    return objectify.parse(fileobject, parser=parser)\n",
      "  File \u001b[1;32m\"src/lxml/objectify.pyx\"\u001b[0m, line \u001b[1;32m1917\u001b[0m, in \u001b[1;35mlxml.objectify.parse\u001b[0m\n",
      "  File \u001b[1;32m\"src/lxml/etree.pyx\"\u001b[0m, line \u001b[1;32m3521\u001b[0m, in \u001b[1;35mlxml.etree.parse\u001b[0m\n",
      "  File \u001b[1;32m\"src/lxml/parser.pxi\"\u001b[0m, line \u001b[1;32m1880\u001b[0m, in \u001b[1;35mlxml.etree._parseDocument\u001b[0m\n",
      "  File \u001b[1;32m\"src/lxml/parser.pxi\"\u001b[0m, line \u001b[1;32m1900\u001b[0m, in \u001b[1;35mlxml.etree._parseFilelikeDocument\u001b[0m\n",
      "  File \u001b[1;32m\"src/lxml/parser.pxi\"\u001b[0m, line \u001b[1;32m1795\u001b[0m, in \u001b[1;35mlxml.etree._parseDocFromFilelike\u001b[0m\n",
      "  File \u001b[1;32m\"src/lxml/parser.pxi\"\u001b[0m, line \u001b[1;32m1201\u001b[0m, in \u001b[1;35mlxml.etree._BaseParser._parseDocFromFilelike\u001b[0m\n",
      "  File \u001b[1;32m\"src/lxml/parser.pxi\"\u001b[0m, line \u001b[1;32m615\u001b[0m, in \u001b[1;35mlxml.etree._ParserContext._handleParseResultDoc\u001b[0m\n",
      "  File \u001b[1;32m\"src/lxml/parser.pxi\"\u001b[0m, line \u001b[1;32m725\u001b[0m, in \u001b[1;35mlxml.etree._handleParseResult\u001b[0m\n",
      "\u001b[0;36m  File \u001b[0;32m\"src/lxml/parser.pxi\"\u001b[0;36m, line \u001b[0;32m654\u001b[0;36m, in \u001b[0;35mlxml.etree._raiseParseError\u001b[0;36m\u001b[0m\n",
      "\u001b[0;36m  File \u001b[0;32m\"/Users/oezguensi/Code/panorama_stitching/assets/Flug2/location.kml\"\u001b[0;36m, line \u001b[0;32m1\u001b[0m\n\u001b[0;31m    <?xml version=\"1.0\" encoding=\"utf-16\"?>\u001b[0m\n\u001b[0m                                        ^\u001b[0m\n\u001b[0;31mXMLSyntaxError\u001b[0m\u001b[0;31m:\u001b[0m Document labelled UTF-16 but has UTF-8 content, line 1, column 38\n"
     ]
    }
   ],
   "source": [
    "with open('../assets/Flug2/location.kml', 'r') as f:\n",
    "  root = parser.parse(f).getroot()\n",
    "\n",
    "# namespace = {\"kml\": 'http://www.opengis.net/kml/2.2'}\n",
    "# pms = root.xpath(\".//kml:Placemark[.//kml:Polygon]\", namespaces=namespace)\n",
    "# for p in pms:\n",
    "#   print(p.Polygon.outerBoundaryIs.LinearRing.coordinates)"
   ]
  },
  {
   "cell_type": "code",
   "execution_count": 33,
   "metadata": {},
   "outputs": [
    {
     "ename": "XMLSyntaxError",
     "evalue": "Document labelled UTF-16 but has UTF-8 content, line 1, column 38 (location.kml, line 1)",
     "output_type": "error",
     "traceback": [
      "Traceback \u001b[0;36m(most recent call last)\u001b[0m:\n",
      "  File \u001b[1;32m\"/Users/oezguensi/.virtualenvs/panorama_stitching/lib/python3.7/site-packages/IPython/core/interactiveshell.py\"\u001b[0m, line \u001b[1;32m3444\u001b[0m, in \u001b[1;35mrun_code\u001b[0m\n    exec(code_obj, self.user_global_ns, self.user_ns)\n",
      "  File \u001b[1;32m\"/var/folders/94/tmyvq7316f367fqgqkhhw3680000gn/T/ipykernel_19998/594185078.py\"\u001b[0m, line \u001b[1;32m2\u001b[0m, in \u001b[1;35m<module>\u001b[0m\n    root = parser.parse(f).getroot()\n",
      "  File \u001b[1;32m\"/Users/oezguensi/.virtualenvs/panorama_stitching/lib/python3.7/site-packages/pykml/parser.py\"\u001b[0m, line \u001b[1;32m69\u001b[0m, in \u001b[1;35mparse\u001b[0m\n    return objectify.parse(fileobject, parser=parser)\n",
      "  File \u001b[1;32m\"src/lxml/objectify.pyx\"\u001b[0m, line \u001b[1;32m1917\u001b[0m, in \u001b[1;35mlxml.objectify.parse\u001b[0m\n",
      "  File \u001b[1;32m\"src/lxml/etree.pyx\"\u001b[0m, line \u001b[1;32m3521\u001b[0m, in \u001b[1;35mlxml.etree.parse\u001b[0m\n",
      "  File \u001b[1;32m\"src/lxml/parser.pxi\"\u001b[0m, line \u001b[1;32m1880\u001b[0m, in \u001b[1;35mlxml.etree._parseDocument\u001b[0m\n",
      "  File \u001b[1;32m\"src/lxml/parser.pxi\"\u001b[0m, line \u001b[1;32m1900\u001b[0m, in \u001b[1;35mlxml.etree._parseFilelikeDocument\u001b[0m\n",
      "  File \u001b[1;32m\"src/lxml/parser.pxi\"\u001b[0m, line \u001b[1;32m1795\u001b[0m, in \u001b[1;35mlxml.etree._parseDocFromFilelike\u001b[0m\n",
      "  File \u001b[1;32m\"src/lxml/parser.pxi\"\u001b[0m, line \u001b[1;32m1201\u001b[0m, in \u001b[1;35mlxml.etree._BaseParser._parseDocFromFilelike\u001b[0m\n",
      "  File \u001b[1;32m\"src/lxml/parser.pxi\"\u001b[0m, line \u001b[1;32m615\u001b[0m, in \u001b[1;35mlxml.etree._ParserContext._handleParseResultDoc\u001b[0m\n",
      "  File \u001b[1;32m\"src/lxml/parser.pxi\"\u001b[0m, line \u001b[1;32m725\u001b[0m, in \u001b[1;35mlxml.etree._handleParseResult\u001b[0m\n",
      "\u001b[0;36m  File \u001b[0;32m\"src/lxml/parser.pxi\"\u001b[0;36m, line \u001b[0;32m654\u001b[0;36m, in \u001b[0;35mlxml.etree._raiseParseError\u001b[0;36m\u001b[0m\n",
      "\u001b[0;36m  File \u001b[0;32m\"/Users/oezguensi/Code/panorama_stitching/assets/Flug2/location.kml\"\u001b[0;36m, line \u001b[0;32m1\u001b[0m\n\u001b[0;31m    <?xml version=\"1.0\" encoding=\"utf-16\"?>\u001b[0m\n\u001b[0m                                        ^\u001b[0m\n\u001b[0;31mXMLSyntaxError\u001b[0m\u001b[0;31m:\u001b[0m Document labelled UTF-16 but has UTF-8 content, line 1, column 38\n"
     ]
    }
   ],
   "source": [
    "with io.open('../assets/Flug2/location.kml', mode=\"r\", encoding=\"utf-8\") as f:\n",
    "    root = parser.parse(f).getroot()"
   ]
  },
  {
   "cell_type": "code",
   "execution_count": null,
   "metadata": {},
   "outputs": [],
   "source": []
  }
 ],
 "metadata": {
  "interpreter": {
   "hash": "6b737d213b0b75f1d55dd977ee4bb94aaaa7e9b01e33d1b9d36fd4123ad33e4d"
  },
  "kernelspec": {
   "display_name": "Python 3.7.3 64-bit ('panorama_stitching': virtualenv)",
   "name": "python3"
  },
  "language_info": {
   "codemirror_mode": {
    "name": "ipython",
    "version": 3
   },
   "file_extension": ".py",
   "mimetype": "text/x-python",
   "name": "python",
   "nbconvert_exporter": "python",
   "pygments_lexer": "ipython3",
   "version": "3.7.3"
  },
  "orig_nbformat": 4
 },
 "nbformat": 4,
 "nbformat_minor": 2
}
